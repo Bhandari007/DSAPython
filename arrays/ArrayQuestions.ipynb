{
 "cells": [
  {
   "cell_type": "markdown",
   "id": "dfef4346-d1a4-48f4-9c52-15759bc6e960",
   "metadata": {},
   "source": [
    "## Q1. Given an array of integers, return the indices of two numbers that add up to a given target.\n",
    "\n",
    "**Constraints:**\n",
    "\n",
    "* There are no negative numbers\n",
    "* There may not be a solution\n",
    "* There is only a single solution if available\n",
    "* There are no duplicate integers.\n",
    "* Return null, if there is not solution.\n",
    "\n",
    "**Test Cases:**\n",
    "\n",
    "* Best Test Case:\n",
    "  * input = [1,3,4,5,9], target = 8, output = [1, 3]\n",
    "* input = [1,3,4,5,9], target = 81, output = null\n",
    "* [], output = null\n",
    "* [1], output = null\n",
    "* [2,3], target = 5, output = [0,1]\n"
   ]
  },
  {
   "cell_type": "markdown",
   "id": "23d1e400-bff3-4816-a783-b9212e5787d7",
   "metadata": {},
   "source": [
    "### Approach 1: Brute Force Solution"
   ]
  },
  {
   "cell_type": "code",
   "execution_count": 50,
   "id": "13543833-6000-47d0-a0de-f62e6bc9f5a5",
   "metadata": {},
   "outputs": [],
   "source": [
    "# time Complexity = O(n^2)\n",
    "def find_indices(arr, target):\n",
    "    for i in range(len(arr)):\n",
    "        num_to_find = target - arr[i]\n",
    "        for j in range(i+1, len(arr)):\n",
    "            if arr[j] == num_to_find:\n",
    "                return [i,j]\n",
    "    return \"null\""
   ]
  },
  {
   "cell_type": "code",
   "execution_count": 51,
   "id": "ed9c9daf-e810-421a-b181-7f3f09aee07e",
   "metadata": {},
   "outputs": [
    {
     "data": {
      "text/plain": [
       "[0, 1]"
      ]
     },
     "execution_count": 51,
     "metadata": {},
     "output_type": "execute_result"
    }
   ],
   "source": [
    "arr = [2,3]\n",
    "target = 5\n",
    "find_indices(arr, target)"
   ]
  },
  {
   "cell_type": "markdown",
   "id": "4eff04b8-2f38-443d-91d0-716ebe6004e5",
   "metadata": {},
   "source": [
    "## Optimized Solution"
   ]
  },
  {
   "cell_type": "code",
   "execution_count": 56,
   "id": "74cc5958-379b-49e7-90ab-34dc296e8304",
   "metadata": {},
   "outputs": [],
   "source": [
    "# Time Complexity O(n)\n",
    "def find_indices(arr, target):\n",
    "    comps = dict()\n",
    "    for i in range(len(arr)): # 0, 1, 2\n",
    "        if arr[i] in comps:\n",
    "            return [comps.get(num_to_find), i] \n",
    "        else:\n",
    "            num_to_find = target - arr[i]\n",
    "            comps[num_to_find] = i # comps = {6:0,4:1, }\n",
    "    return \"null\""
   ]
  },
  {
   "cell_type": "code",
   "execution_count": 57,
   "id": "367a4ba9-533c-4efd-af5d-8ae1ce4e6ceb",
   "metadata": {},
   "outputs": [
    {
     "data": {
      "text/plain": [
       "[0, 1]"
      ]
     },
     "execution_count": 57,
     "metadata": {},
     "output_type": "execute_result"
    }
   ],
   "source": [
    "arr = [1,3]\n",
    "target = 4\n",
    "find_indices(arr, target)"
   ]
  },
  {
   "cell_type": "markdown",
   "id": "dd86e5d4-0189-47cf-84b9-b39d60470f11",
   "metadata": {},
   "source": [
    "## Q2. You are given an array of integers where each integer represents the height of a vertical line on a chart. Find two lines which together with the X-axis forms a container that would hold the greatest amount of water. Return the area of water it would hold.\n",
    "\n",
    "**Constraints:**\n",
    "\n",
    "* Does the left and right handside of the graph also counts?\n",
    "* Does the thickness of the line affects?\n",
    "* Does the long line in the middle affects?\n",
    "\n",
    "\n",
    "**Test Cases:**\n",
    "\n",
    "* i/p = [], o/p = 0\n",
    "* i/p = [1], o/p = 0\n",
    "* i/p = [1,3,5,2,6,7], o/p = 15"
   ]
  },
  {
   "cell_type": "markdown",
   "id": "031df5c9-d51e-4b84-91dc-e78ec0022859",
   "metadata": {},
   "source": [
    "## Brute-Force Approach"
   ]
  },
  {
   "cell_type": "code",
   "execution_count": 1,
   "id": "5e2eb493-5d92-4058-9338-6882d69aa84a",
   "metadata": {},
   "outputs": [],
   "source": [
    "# Time Complexity : O(n^2)\n",
    "def maximum_area(arr):\n",
    "    max_area = 0\n",
    "    for i in range(len(arr)):\n",
    "        for j in range(i+1, len(arr)):\n",
    "            length = min(arr[i], arr[j])\n",
    "            breadth = j-i\n",
    "            area = length * breadth\n",
    "            if area > max_area:\n",
    "                max_area = area\n",
    "    return max_area"
   ]
  },
  {
   "cell_type": "code",
   "execution_count": 10,
   "id": "d9c4eed8-f048-431e-9505-589923b39ade",
   "metadata": {},
   "outputs": [
    {
     "data": {
      "text/plain": [
       "15"
      ]
     },
     "execution_count": 10,
     "metadata": {},
     "output_type": "execute_result"
    }
   ],
   "source": [
    "arr = [1,3,5,2,6,7]\n",
    "maximum_area(arr)"
   ]
  },
  {
   "cell_type": "markdown",
   "id": "9af13c16-f011-468c-b3ff-6efac33ffafc",
   "metadata": {},
   "source": [
    "### Optimized Solution"
   ]
  },
  {
   "cell_type": "code",
   "execution_count": 15,
   "id": "40c49a36-6325-4b0f-91ec-11badfa1aa6c",
   "metadata": {},
   "outputs": [],
   "source": [
    "def maximum_area(arr):\n",
    "    max_area = 0\n",
    "    left_p = 0\n",
    "    right_p = len(arr)-1\n",
    "    while(left_p < right_p):\n",
    "        length = min(arr[left_p], arr[right_p]) # 1\n",
    "        width = right_p - left_p # 5\n",
    "        area = length * width # 5\n",
    "        if area > max_area:\n",
    "            max_area = area      \n",
    "        if arr[left_p] < arr[right_p]:\n",
    "            left_p+=1\n",
    "        else:\n",
    "            right_p-=1\n",
    "    return max_area"
   ]
  },
  {
   "cell_type": "code",
   "execution_count": 16,
   "id": "d7845605-09ab-47b2-ab1b-3e9b314708e2",
   "metadata": {},
   "outputs": [
    {
     "data": {
      "text/plain": [
       "15"
      ]
     },
     "execution_count": 16,
     "metadata": {},
     "output_type": "execute_result"
    }
   ],
   "source": [
    "arr = [1,3,5,2,6,7]\n",
    "maximum_area(arr)"
   ]
  },
  {
   "cell_type": "code",
   "execution_count": null,
   "id": "c05c3244-af69-45bc-88a6-c2d7c334c746",
   "metadata": {},
   "outputs": [],
   "source": []
  }
 ],
 "metadata": {
  "kernelspec": {
   "display_name": "Python 3 (ipykernel)",
   "language": "python",
   "name": "python3"
  },
  "language_info": {
   "codemirror_mode": {
    "name": "ipython",
    "version": 3
   },
   "file_extension": ".py",
   "mimetype": "text/x-python",
   "name": "python",
   "nbconvert_exporter": "python",
   "pygments_lexer": "ipython3",
   "version": "3.12.3"
  }
 },
 "nbformat": 4,
 "nbformat_minor": 5
}
