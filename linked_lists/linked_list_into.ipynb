{
 "cells": [
  {
   "cell_type": "markdown",
   "id": "3701da81-d2b9-47fb-9587-242f204afcb0",
   "metadata": {},
   "source": [
    "# Linked List"
   ]
  },
  {
   "cell_type": "markdown",
   "id": "8f9710dd-f03f-4301-ac63-846d4a344b5f",
   "metadata": {},
   "source": [
    "* What are the problems with static array/dynamic array?\n",
    "* What are the problems with hash tables?\n",
    "* What is linked list?\n",
    "* Implementation of linked list?"
   ]
  },
  {
   "cell_type": "code",
   "execution_count": 31,
   "id": "ec8d21e7-b41b-4c1f-9791-eee7d42544ae",
   "metadata": {},
   "outputs": [],
   "source": [
    "class CustomLinkedList:\n",
    "    def __init__(self, value):\n",
    "        self.head = {\n",
    "            \"value\":value,\n",
    "            \"next\": None\n",
    "        }\n",
    "        self.tail = self.head\n",
    "        self.length = 1\n",
    "\n",
    "    def __repr__(self):\n",
    "        return f\"Head: {self.head}\\nTail: {self.tail} \\nLength = {self.length}\"\n",
    "\n",
    "    def print_list(self):\n",
    "        arr = list()\n",
    "        current_node = self.head\n",
    "        while(current_node[\"next\"]!=None):\n",
    "            arr.append(current_node[\"value\"])\n",
    "            current_node = current_node[\"next\"]\n",
    "        print(arr)\n",
    "        \n",
    "    def append(self, value):\n",
    "        new_node = {\n",
    "            \"value\": value,\n",
    "            \"next\": None\n",
    "        }\n",
    "        self.tail[\"next\"] = new_node\n",
    "        self.tail = new_node\n",
    "        self.length+=1\n",
    "\n",
    "    def prepend(self, value):\n",
    "       new_node = {\n",
    "           \"value\": value,\n",
    "           \"next\": None\n",
    "       }\n",
    "       new_node[\"next\"] = self.head\n",
    "       self.head = new_node\n",
    "       self.length+=1\n",
    "\n",
    "    def find_node(self, idx):\n",
    "        current_node = self.head\n",
    "        for i in range(idx):\n",
    "            current_node = current_node[\"next\"]\n",
    "        return current_node\n",
    "            \n",
    "    def insert(self, idx, value):\n",
    "        new_node = {\"value\": value, \"next\":None}\n",
    "        leading_node = self.find_node(idx-1)\n",
    "        trailing_node = self.find_node(idx)\n",
    "        leading_node[\"next\"] = new_node\n",
    "        new_node[\"next\"] = trailing_node\n",
    "        self.length+=1\n",
    "           "
   ]
  },
  {
   "cell_type": "code",
   "execution_count": 32,
   "id": "8a441660-6f8e-4146-88a6-e20162b3bc7b",
   "metadata": {},
   "outputs": [],
   "source": [
    "ll_one = CustomLinkedList(5)"
   ]
  },
  {
   "cell_type": "code",
   "execution_count": 33,
   "id": "2496e589-75bf-45ee-8179-01ff3e840f83",
   "metadata": {},
   "outputs": [],
   "source": [
    "ll_one.append(6)"
   ]
  },
  {
   "cell_type": "code",
   "execution_count": 34,
   "id": "3c16ba99-c304-4bbe-b994-b45084eef792",
   "metadata": {},
   "outputs": [
    {
     "data": {
      "text/plain": [
       "Head: {'value': 5, 'next': {'value': 6, 'next': None}}\n",
       "Tail: {'value': 6, 'next': None} \n",
       "Length = 2"
      ]
     },
     "execution_count": 34,
     "metadata": {},
     "output_type": "execute_result"
    }
   ],
   "source": [
    "ll_one"
   ]
  },
  {
   "cell_type": "code",
   "execution_count": 35,
   "id": "1f266c99-c684-4e8e-9b2b-8b6b94943189",
   "metadata": {},
   "outputs": [],
   "source": [
    "ll_one.append(10)"
   ]
  },
  {
   "cell_type": "code",
   "execution_count": 36,
   "id": "4fb56cde-1d6d-4884-972d-a2f656498f6f",
   "metadata": {},
   "outputs": [
    {
     "data": {
      "text/plain": [
       "Head: {'value': 5, 'next': {'value': 6, 'next': {'value': 10, 'next': None}}}\n",
       "Tail: {'value': 10, 'next': None} \n",
       "Length = 3"
      ]
     },
     "execution_count": 36,
     "metadata": {},
     "output_type": "execute_result"
    }
   ],
   "source": [
    "ll_one"
   ]
  },
  {
   "cell_type": "code",
   "execution_count": 37,
   "id": "8505b7f4-03ef-4b2e-b486-8e7c22b33f6c",
   "metadata": {},
   "outputs": [],
   "source": [
    "ll_one.insert(2,2)"
   ]
  },
  {
   "cell_type": "code",
   "execution_count": 38,
   "id": "c17ab4c8-07b8-4c1c-b2a1-19cb2f9bdbfd",
   "metadata": {},
   "outputs": [
    {
     "data": {
      "text/plain": [
       "Head: {'value': 5, 'next': {'value': 6, 'next': {'value': 2, 'next': {'value': 10, 'next': None}}}}\n",
       "Tail: {'value': 10, 'next': None} \n",
       "Length = 4"
      ]
     },
     "execution_count": 38,
     "metadata": {},
     "output_type": "execute_result"
    }
   ],
   "source": [
    "ll_one"
   ]
  },
  {
   "cell_type": "code",
   "execution_count": 39,
   "id": "5971555b-13b6-47cc-9146-5a24d97097ea",
   "metadata": {},
   "outputs": [],
   "source": [
    "ll_one.append(20)"
   ]
  },
  {
   "cell_type": "code",
   "execution_count": 40,
   "id": "ef6d0e4c-8d90-4aed-b7d3-56e8abd7ed00",
   "metadata": {},
   "outputs": [
    {
     "data": {
      "text/plain": [
       "Head: {'value': 5, 'next': {'value': 6, 'next': {'value': 2, 'next': {'value': 10, 'next': {'value': 20, 'next': None}}}}}\n",
       "Tail: {'value': 20, 'next': None} \n",
       "Length = 5"
      ]
     },
     "execution_count": 40,
     "metadata": {},
     "output_type": "execute_result"
    }
   ],
   "source": [
    "ll_one"
   ]
  },
  {
   "cell_type": "code",
   "execution_count": 41,
   "id": "ac8d2433-86cd-45dd-b348-82e6a48f90d9",
   "metadata": {},
   "outputs": [
    {
     "name": "stdout",
     "output_type": "stream",
     "text": [
      "[5, 6, 2, 10]\n"
     ]
    }
   ],
   "source": [
    "ll_one.print_list()"
   ]
  },
  {
   "cell_type": "code",
   "execution_count": 42,
   "id": "920e53bd-a244-4d3e-8e7f-32547fc481bd",
   "metadata": {},
   "outputs": [],
   "source": [
    "ll_one.prepend(4)"
   ]
  },
  {
   "cell_type": "code",
   "execution_count": 43,
   "id": "d49549e6-6609-4710-8818-0ea223408488",
   "metadata": {},
   "outputs": [
    {
     "data": {
      "text/plain": [
       "Head: {'value': 4, 'next': {'value': 5, 'next': {'value': 6, 'next': {'value': 2, 'next': {'value': 10, 'next': {'value': 20, 'next': None}}}}}}\n",
       "Tail: {'value': 20, 'next': None} \n",
       "Length = 6"
      ]
     },
     "execution_count": 43,
     "metadata": {},
     "output_type": "execute_result"
    }
   ],
   "source": [
    "ll_one"
   ]
  },
  {
   "cell_type": "code",
   "execution_count": 44,
   "id": "077ffc9f-a515-4647-9688-e49362d042f5",
   "metadata": {},
   "outputs": [],
   "source": [
    "ll_one.insert(1,7)"
   ]
  },
  {
   "cell_type": "code",
   "execution_count": 45,
   "id": "fab2220d-89c7-43ff-8659-c15593b3589f",
   "metadata": {},
   "outputs": [
    {
     "data": {
      "text/plain": [
       "Head: {'value': 4, 'next': {'value': 7, 'next': {'value': 5, 'next': {'value': 6, 'next': {'value': 2, 'next': {'value': 10, 'next': {'value': 20, 'next': None}}}}}}}\n",
       "Tail: {'value': 20, 'next': None} \n",
       "Length = 7"
      ]
     },
     "execution_count": 45,
     "metadata": {},
     "output_type": "execute_result"
    }
   ],
   "source": [
    "ll_one"
   ]
  },
  {
   "cell_type": "code",
   "execution_count": 46,
   "id": "76f65d9f-e7de-4172-b668-9f38b6838580",
   "metadata": {},
   "outputs": [
    {
     "name": "stdout",
     "output_type": "stream",
     "text": [
      "[4, 7, 5, 6, 2, 10]\n"
     ]
    }
   ],
   "source": [
    "ll_one.print_list()"
   ]
  },
  {
   "cell_type": "markdown",
   "id": "b94bf000-8676-4d48-953f-17c364ca9ef7",
   "metadata": {},
   "source": [
    "Q. Implement doubly linked list\\\n",
    "Q. Reverse a linked list\\\n",
    "Q. Pros and Cons of linked list"
   ]
  },
  {
   "cell_type": "code",
   "execution_count": null,
   "id": "2e116bb4-d687-4dfe-9fec-27e487101482",
   "metadata": {},
   "outputs": [],
   "source": []
  }
 ],
 "metadata": {
  "kernelspec": {
   "display_name": "Python 3 (ipykernel)",
   "language": "python",
   "name": "python3"
  },
  "language_info": {
   "codemirror_mode": {
    "name": "ipython",
    "version": 3
   },
   "file_extension": ".py",
   "mimetype": "text/x-python",
   "name": "python",
   "nbconvert_exporter": "python",
   "pygments_lexer": "ipython3",
   "version": "3.12.3"
  }
 },
 "nbformat": 4,
 "nbformat_minor": 5
}
